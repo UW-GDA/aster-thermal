{
 "cells": [
  {
   "cell_type": "markdown",
   "metadata": {},
   "source": [
    "# Validating ASTER Thermal Infrared Imaging for use in Snow Models\n",
    "\n",
    "## Summary\n",
    "This project investigates how satellite thermal infrared imaging represents snow surface temperature for an improved understanding of snowmelt timing and magnitude over larger spatial areas and timescales.\n",
    "\n",
    "## Background\n",
    "### Snowmelt and the Hydrologic Cycle\n",
    "* Snowmelt contributes up to 75% of water supply in parts of the western United States (Dettinger, M. 2005)\n",
    "* Few ground observations of snow surface temperature are available and represent a small area\n",
    "\n",
    "### Thermal Imaging and Satellites\n",
    "* Satellite thermal imaging can remotely determine surface temperature over large areas/time scales\n",
    "* Satellite imaging is limited by its coarse spatial resolution\n",
    "\n",
    "## Research Questions\n",
    "1. Does the 90 meter resolution ASTER thermal infrared imagery accurately capture the mean snow surface temperature over the upper Tuolumne area in Yosemite, California?\n",
    "2. If ASTER does not accurately represent the mean snow surface temperature, is there an explanation for errors (topography, vegetation, etc.) and a function to correct ASTER?\n",
    "\n",
    "## Datasets\n",
    "* ASTER (Advanced Spaceborne Thermal Emission and Reflection Radiometer) 90-meter TIR\n",
    "* UW Applied Physics Laboratory airborne TIR camera\n",
    "* Future: UW Mountain Hydrology Research Group ground observations"
   ]
  },
  {
   "cell_type": "markdown",
   "metadata": {},
   "source": [
    "## Import Statements, Reading in Images, and "
   ]
  },
  {
   "cell_type": "code",
   "execution_count": null,
   "metadata": {},
   "outputs": [
    {
     "name": "stderr",
     "output_type": "stream",
     "text": [
      "/srv/conda/envs/notebook/lib/python3.8/site-packages/rasterio/plot.py:263: SyntaxWarning: \"is\" with a literal. Did you mean \"==\"?\n",
      "  if len(arr.shape) is 2:\n"
     ]
    }
   ],
   "source": [
    "import aster_processing_fn\n",
    "import matplotlib.pyplot as plt\n",
    "from matplotlib_scalebar.scalebar import ScaleBar\n",
    "import xarray as xr\n",
    "import rioxarray\n",
    "import numpy as np\n",
    "import scipy.stats as stats"
   ]
  },
  {
   "cell_type": "code",
   "execution_count": null,
   "metadata": {},
   "outputs": [],
   "source": [
    "#%matplotlib widget\n",
    "%matplotlib inline"
   ]
  },
  {
   "cell_type": "code",
   "execution_count": null,
   "metadata": {},
   "outputs": [],
   "source": [
    "# Identify TIFF files\n",
    "airborne_tif = './airborne/YOSEMITE_IR_PLANE_2017Apr21_mosaicked_9_calCam.tif'\n",
    "aster_tif = './aster/AST_L1T_00304212017185107_20170422082541_26960_ImageData14.tif'"
   ]
  },
  {
   "cell_type": "code",
   "execution_count": null,
   "metadata": {},
   "outputs": [],
   "source": [
    "# Read in ASTER and convert to brightness temperature using xarray and aster_processing_fn\n",
    "aster_src = xr.open_rasterio(aster_tif)\n",
    "aster_band = 14\n",
    "aster_rad = aster_processing_fn.tir_dn2rad(aster_src, aster_band)\n",
    "aster_tb =  aster_processing_fn.tir_rad2tb(aster_rad, aster_band)\n",
    "# Convert to degC\n",
    "aster_tb_degC = aster_tb-273.15\n",
    "aster_tb_degC.rio.set_crs(aster_src.crs)\n",
    "\n",
    "# Read in Airborne\n",
    "air_src = xr.open_rasterio(airborne_tif)\n",
    "\n",
    "# Reproject ASTER to airborne\n",
    "aster_src_repr = aster_tb_degC.rio.reproject_match(air_src)"
   ]
  },
  {
   "cell_type": "code",
   "execution_count": null,
   "metadata": {},
   "outputs": [],
   "source": [
    "# Mask reprojected ASTER to study area\n",
    "aster_masked = aster_src_repr.where(~np.isnan(air_src))\n",
    "\n",
    "# Plot both datasets\n",
    "f, ax = plt.subplots(1,2,figsize=(25,8))\n",
    "\n",
    "aster_masked.plot(cmap='RdBu_r', cbar_kwargs={'label': 'Surface Temperature, $^{\\circ}$C'},vmin=-10,vmax=10, ax=ax[0])\n",
    "ax[0].add_artist(ScaleBar(1.0))\n",
    "ax[0].set_title('Reprojected ASTER Surface Temperature')\n",
    "\n",
    "air_src.plot(cmap='RdBu_r', cbar_kwargs={'label': 'Surface Temperature, $^{\\circ}$C'},vmin=-10,vmax=10,ax=ax[1])\n",
    "ax[1].add_artist(ScaleBar(1.0))\n",
    "ax[1].set_title('Airborne Surface Temperature');"
   ]
  },
  {
   "cell_type": "markdown",
   "metadata": {},
   "source": [
    "## Calculate and Analyze Difference Map"
   ]
  },
  {
   "cell_type": "code",
   "execution_count": null,
   "metadata": {},
   "outputs": [],
   "source": [
    "# Calculate difference map\n",
    "diff = aster_masked-air_src"
   ]
  },
  {
   "cell_type": "code",
   "execution_count": null,
   "metadata": {},
   "outputs": [],
   "source": [
    "# Plot difference map = how much warmer ASTER is\n",
    "f, ax = plt.subplots(figsize=(15,10))\n",
    "diff.plot(cmap='coolwarm',vmin=-10,vmax=10)\n",
    "ax.add_artist(ScaleBar(1.0))\n",
    "ax.set_title('Difference in Surface Temperature, $^{\\circ}$C');"
   ]
  },
  {
   "cell_type": "code",
   "execution_count": null,
   "metadata": {},
   "outputs": [],
   "source": [
    "# Calculate statistics of difference map\n",
    "mean_diff = diff.mean().item(0)\n",
    "median_diff = diff.median().item(0)\n",
    "std_diff = diff.std().item(0)\n",
    "max_diff = abs(diff).max().item(0)\n",
    "\n",
    "print('Mean Difference = ', np.round(mean_diff,3))\n",
    "print('Median Difference = ', np.round(median_diff,3))\n",
    "print('Standard Devation of Differences = ', np.round(std_diff,3))\n",
    "print('Maximum Difference = ', np.round(max_diff,3))"
   ]
  },
  {
   "cell_type": "code",
   "execution_count": null,
   "metadata": {},
   "outputs": [],
   "source": [
    "# Plot histogram of differences\n",
    "f, ax = plt.subplots(figsize=(12,10))\n",
    "\n",
    "plt.hist(diff.values.ravel(),bins=100)\n",
    "\n",
    "# Plot vline at mean\n",
    "ax.vlines(mean_diff, ymin=0, ymax=45000, color='k', label='Mean')\n",
    "\n",
    "# Plot vline at +- 1stdev\n",
    "x_stdev = [mean_diff+std_diff, mean_diff-std_diff]\n",
    "ax.vlines(x_stdev, ymin=0, ymax=45000, color='r', linestyles='dashed', label='1 Std Dev')\n",
    "\n",
    "plt.legend()\n",
    "\n",
    "ax.set_xlabel('Difference in Surface Temperature, $^{\\circ}$C')\n",
    "ax.set_ylabel('Count');"
   ]
  },
  {
   "cell_type": "code",
   "execution_count": null,
   "metadata": {},
   "outputs": [],
   "source": [
    "# Calculate percent error\n",
    "percent_error = np.divide(abs(diff),abs(air_src))\n",
    "percent_error = percent_error*100"
   ]
  },
  {
   "cell_type": "code",
   "execution_count": null,
   "metadata": {},
   "outputs": [],
   "source": [
    "# Calculate statistics of difference map\n",
    "mean_error = percent_error.mean().item(0)\n",
    "median_error = percent_error.median().item(0)\n",
    "std_error = percent_error.std().item(0)\n",
    "max_error = abs(percent_error).max().item(0)\n",
    "\n",
    "print('Mean % Error = ', np.round(mean_error,3))\n",
    "print('Median % Error = ', np.round(median_error,3))\n",
    "print('Standard Devation of % Error = ', np.round(std_error,3))\n",
    "print('Maximum % Error = ', np.round(max_error,3))"
   ]
  },
  {
   "cell_type": "code",
   "execution_count": null,
   "metadata": {},
   "outputs": [],
   "source": [
    "# Plot percent error\n",
    "f, ax = plt.subplots(figsize=(15,10))\n",
    "percent_error.plot(cmap='summer',vmin=0,vmax=100)\n",
    "ax.add_artist(ScaleBar(1.0))\n",
    "ax.set_title('Percent Error in Surface Temperature');"
   ]
  },
  {
   "cell_type": "code",
   "execution_count": null,
   "metadata": {},
   "outputs": [],
   "source": [
    "# Plot histogram of percent error\n",
    "f, ax = plt.subplots(figsize=(12,10))\n",
    "\n",
    "plt.hist(percent_error.values.ravel(),bins=100,range=(0,100))\n",
    "ax.set_xlabel('Percent Error')\n",
    "ax.set_ylabel('Count');"
   ]
  },
  {
   "cell_type": "markdown",
   "metadata": {},
   "source": [
    "## NDVI (Normalized Difference Vegetation Index)"
   ]
  },
  {
   "cell_type": "code",
   "execution_count": null,
   "metadata": {},
   "outputs": [],
   "source": [
    "# Identify red and near infrared images\n",
    "red_path = './aster/AST_L1T_00304212017185107_20170422082541_26960_ImageData2.tif'\n",
    "nir_path = './aster/AST_L1T_00304212017185107_20170422082541_26960_ImageData3N.tif'"
   ]
  },
  {
   "cell_type": "code",
   "execution_count": null,
   "metadata": {},
   "outputs": [],
   "source": [
    "# Pull red, nir, reproject to airborne resolution\n",
    "red_src = xr.open_rasterio(red_path)\n",
    "nir_src = xr.open_rasterio(nir_path)\n",
    "\n",
    "red = red_src.rio.reproject_match(air_src)\n",
    "nir = nir_src.rio.reproject_match(air_src)"
   ]
  },
  {
   "cell_type": "code",
   "execution_count": null,
   "metadata": {},
   "outputs": [],
   "source": [
    "# Calculate NDVI and mask\n",
    "NDVI = (nir-red)/(nir+red)\n",
    "NDVI_masked = NDVI.where(~np.isnan(air_src))"
   ]
  },
  {
   "cell_type": "code",
   "execution_count": null,
   "metadata": {},
   "outputs": [],
   "source": [
    "# Plot NDVI\n",
    "f, ax = plt.subplots(figsize=(15,10))\n",
    "NDVI_masked.plot(ax=ax, vmin=0, vmax=1,cmap='Greens')\n",
    "ax.add_artist(ScaleBar(1.0))\n",
    "ax.set_title('Masked NDVI');"
   ]
  },
  {
   "cell_type": "code",
   "execution_count": null,
   "metadata": {},
   "outputs": [],
   "source": [
    "f, [ax1, ax2] = plt.subplots(1,2)\n",
    "\n",
    "NDVI_masked.plot(ax=ax1, vmin=0, vmax=1, cmap='Greens')\n",
    "ax1.set_title('Reprojected NDVI')\n",
    "diff.plot(ax=ax2, vmin=-10, vmax=10, cmap='RdBu_r')\n",
    "ax2.set_title('Difference in Surface Temp')\n",
    "\n",
    "f.set_figwidth(20)\n",
    "f.set_figheight(5);"
   ]
  },
  {
   "cell_type": "code",
   "execution_count": null,
   "metadata": {},
   "outputs": [],
   "source": [
    "f, [ax1, ax2] = plt.subplots(1,2)\n",
    "\n",
    "NDVI_masked.plot(ax=ax1, vmin=0, vmax=1, cmap='Greens')\n",
    "ax1.set_title('Reprojected NDVI')\n",
    "air_src.plot(ax=ax2, vmin=-10, vmax=10, cmap='RdBu_r')\n",
    "ax2.set_title('Airborne Surface Temp')\n",
    "\n",
    "f.set_figwidth(20)\n",
    "f.set_figheight(5);"
   ]
  },
  {
   "cell_type": "code",
   "execution_count": null,
   "metadata": {},
   "outputs": [],
   "source": [
    "f, [ax1, ax2] = plt.subplots(1,2)\n",
    "\n",
    "NDVI_masked.plot(ax=ax1, vmin=0, vmax=1, cmap='Greens')\n",
    "ax1.set_title('Reprojected NDVI')\n",
    "percent_error.plot(ax=ax2, vmin=0, vmax=100, cmap='summer')\n",
    "ax2.set_title('Percent Error')\n",
    "\n",
    "f.set_figwidth(20)\n",
    "f.set_figheight(5);"
   ]
  },
  {
   "cell_type": "code",
   "execution_count": null,
   "metadata": {},
   "outputs": [],
   "source": [
    "air_where_NDVI = air_src.where(~np.isnan(NDVI_masked))"
   ]
  },
  {
   "cell_type": "code",
   "execution_count": null,
   "metadata": {},
   "outputs": [],
   "source": [
    "# Plot histogram of NDVI\n",
    "f, [ax1,ax2] = plt.subplots(nrows=1,ncols=2,figsize=(15,4),constrained_layout=True)\n",
    "\n",
    "ax1.scatter(diff,NDVI_masked)\n",
    "ax1.set_ylabel('NDVI')\n",
    "ax1.set_xlabel('Difference in Surface Temp')\n",
    "\n",
    "ax2.scatter(air_where_NDVI,NDVI_masked)\n",
    "ax2.set_ylabel('NDVI')\n",
    "ax2.set_xlabel('Airborne Surface Temp');"
   ]
  },
  {
   "cell_type": "markdown",
   "metadata": {},
   "source": [
    "## Future Steps\n",
    "1. Validate airborne data with ground observations\n",
    "2. Formal data analysis on NDVI\n",
    "3. Scaling function and consideration of other variables - extreme temperature, topography\n",
    "4. Look at different ASTER bands\n",
    "\n",
    "## References\n",
    "Dettinger, M. (2005). Changes in streamflow timing in the western United States in recent decades. USGS Numbered Series. doi:10.3133/fs20053018\n",
    "\n",
    "Pestana, S., Chickadel, C. C., Harpold, A., Kostadinov, T. S., Pai, H., Tyler, S., et al. (2019). Bias correction of airborne thermal infrared observations over forests using melting snow. Water Resources Research, 55. https://doi.org/10.1029/2019WR025699"
   ]
  }
 ],
 "metadata": {
  "kernelspec": {
   "display_name": "Python 3",
   "language": "python",
   "name": "python3"
  },
  "language_info": {
   "codemirror_mode": {
    "name": "ipython",
    "version": 3
   },
   "file_extension": ".py",
   "mimetype": "text/x-python",
   "name": "python",
   "nbconvert_exporter": "python",
   "pygments_lexer": "ipython3",
   "version": "3.8.6"
  }
 },
 "nbformat": 4,
 "nbformat_minor": 4
}
